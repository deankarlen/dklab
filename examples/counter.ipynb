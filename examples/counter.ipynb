{
 "cells": [
  {
   "cell_type": "code",
   "metadata": {
    "collapsed": true,
    "ExecuteTime": {
     "end_time": "2025-09-15T21:07:43.911964Z",
     "start_time": "2025-09-15T21:07:40.135160Z"
    }
   },
   "source": [
    "import sys\n",
    "sys.path.insert(0, '..')\n",
    "from dklab.RadiationCounter import RadiationCounter, SimulatedRadiationCounter\n",
    "from dklab.RadioactiveSource import RadioactiveSource\n",
    "import numpy as np"
   ],
   "outputs": [],
   "execution_count": 1
  },
  {
   "cell_type": "code",
   "source": [
    "myCounter = RadiationCounter(123456,0)\n",
    "mySource = RadioactiveSource(3.)"
   ],
   "metadata": {
    "collapsed": false,
    "ExecuteTime": {
     "end_time": "2025-09-15T21:07:46.436457Z",
     "start_time": "2025-09-15T21:07:46.433106Z"
    }
   },
   "outputs": [
    {
     "name": "stdout",
     "output_type": "stream",
     "text": [
      "Lab radiation counter model 0 built for student ID: 123456. Default counting time is 10.0 seconds.\n"
     ]
    }
   ],
   "execution_count": 2
  },
  {
   "cell_type": "code",
   "source": [
    "myCounter.insert_calibration_source(mySource)"
   ],
   "metadata": {
    "collapsed": false,
    "ExecuteTime": {
     "end_time": "2025-09-15T21:07:47.682346Z",
     "start_time": "2025-09-15T21:07:47.679072Z"
    }
   },
   "outputs": [
    {
     "name": "stdout",
     "output_type": "stream",
     "text": [
      "The calibration source has been inserted into the counter\n"
     ]
    }
   ],
   "execution_count": 3
  },
  {
   "cell_type": "code",
   "source": [
    "myCounter.set_counting_time(15)\n",
    "myCounter.start()"
   ],
   "metadata": {
    "collapsed": false,
    "ExecuteTime": {
     "end_time": "2025-09-15T21:08:16.515167Z",
     "start_time": "2025-09-15T21:08:01.473904Z"
    }
   },
   "outputs": [
    {
     "name": "stdout",
     "output_type": "stream",
     "text": [
      "Measurement has begun. Please wait 15 seconds.\n",
      "Number of counts observed in 15 seconds was 51\n"
     ]
    }
   ],
   "execution_count": 4
  },
  {
   "cell_type": "code",
   "source": [
    "print(myCounter.get_count(), myCounter.get_success())"
   ],
   "metadata": {
    "collapsed": false,
    "ExecuteTime": {
     "end_time": "2025-09-15T21:08:25.439353Z",
     "start_time": "2025-09-15T21:08:25.435705Z"
    }
   },
   "outputs": [
    {
     "name": "stdout",
     "output_type": "stream",
     "text": [
      "51 True\n"
     ]
    }
   ],
   "execution_count": 5
  },
  {
   "cell_type": "code",
   "source": [
    "myCounter.insert_lab_source()\n",
    "myCounter.start()"
   ],
   "metadata": {
    "collapsed": false,
    "ExecuteTime": {
     "end_time": "2025-09-15T21:08:47.997888Z",
     "start_time": "2025-09-15T21:08:32.972332Z"
    }
   },
   "outputs": [
    {
     "name": "stdout",
     "output_type": "stream",
     "text": [
      "The calibration source has been removed from the counter.\n",
      "The lab source has been inserted into the counter.\n",
      "Measurement has begun. Please wait 15 seconds.\n",
      "Number of counts observed in 15 seconds was 7\n"
     ]
    }
   ],
   "execution_count": 6
  },
  {
   "metadata": {
    "ExecuteTime": {
     "end_time": "2025-09-15T21:08:55.603635Z",
     "start_time": "2025-09-15T21:08:55.600093Z"
    }
   },
   "cell_type": "code",
   "source": [
    "# Prepare a simulation of the experiment\n",
    "\n",
    "mySimulatedCounter = SimulatedRadiationCounter()"
   ],
   "outputs": [
    {
     "name": "stdout",
     "output_type": "stream",
     "text": [
      "Simulated detector built. Counting time = 10.0 Efficiency = 1.0 Background rate= 0.0 (Hz)\n"
     ]
    }
   ],
   "execution_count": 7
  },
  {
   "metadata": {
    "ExecuteTime": {
     "end_time": "2025-09-15T21:08:59.858791Z",
     "start_time": "2025-09-15T21:08:59.855295Z"
    }
   },
   "cell_type": "code",
   "source": [
    "mySimulatedCounter.insert_calibration_source(mySource)\n",
    "\n",
    "mySimulatedCounter.set_counting_time(30)\n",
    "repetitions = 100\n",
    "sim_data = mySimulatedCounter.get_data(repetitions) # returns a list of counts from the simulations\n",
    "\n",
    "print('Results from',repetitions,'simulations:')\n",
    "print(f'mean = {np.mean(sim_data):.2f}, std = {np.std(sim_data):.2f}')"
   ],
   "outputs": [
    {
     "name": "stdout",
     "output_type": "stream",
     "text": [
      "Results from 100 simulations:\n",
      "mean = 90.49, std = 10.53\n"
     ]
    }
   ],
   "execution_count": 8
  },
  {
   "metadata": {
    "ExecuteTime": {
     "end_time": "2025-09-15T21:10:02.378766Z",
     "start_time": "2025-09-15T21:10:02.374365Z"
    }
   },
   "cell_type": "code",
   "source": [
    "# modify the properties of the simulated counter\n",
    "mySimulatedCounter.set_background(0.5) # 0.5 counts per second\n",
    "mySimulatedCounter.set_efficiency(0.2) # 20% efficiency\n",
    "\n",
    "sim_data = mySimulatedCounter.get_data(repetitions) # returns a list of counts from the simulations\n",
    "\n",
    "print('Results from',repetitions,'simulations:')\n",
    "print(f'mean = {np.mean(sim_data):.2f}, std = {np.std(sim_data):.2f}')"
   ],
   "outputs": [
    {
     "name": "stdout",
     "output_type": "stream",
     "text": [
      "Results from 100 simulations:\n",
      "mean = 33.09, std = 5.72\n"
     ]
    }
   ],
   "execution_count": 10
  },
  {
   "metadata": {},
   "cell_type": "code",
   "outputs": [],
   "execution_count": null,
   "source": ""
  }
 ],
 "metadata": {
  "kernelspec": {
   "display_name": "Python 3",
   "language": "python",
   "name": "python3"
  },
  "language_info": {
   "codemirror_mode": {
    "name": "ipython",
    "version": 2
   },
   "file_extension": ".py",
   "mimetype": "text/x-python",
   "name": "python",
   "nbconvert_exporter": "python",
   "pygments_lexer": "ipython2",
   "version": "2.7.6"
  }
 },
 "nbformat": 4,
 "nbformat_minor": 0
}
