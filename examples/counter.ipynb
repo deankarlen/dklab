{
 "cells": [
  {
   "cell_type": "code",
   "metadata": {
    "collapsed": true,
    "ExecuteTime": {
     "end_time": "2025-09-15T22:39:55.095014Z",
     "start_time": "2025-09-15T22:39:51.364550Z"
    }
   },
   "source": [
    "import sys\n",
    "sys.path.insert(0, '..')\n",
    "from dklab.RadiationCounter import RadiationCounter, SimulatedRadiationCounter\n",
    "from dklab.RadioactiveSource import RadioactiveSource\n",
    "import numpy as np"
   ],
   "outputs": [],
   "execution_count": 1
  },
  {
   "cell_type": "code",
   "source": [
    "myCounter = RadiationCounter(123456,0)\n",
    "mySource = RadioactiveSource(3.)"
   ],
   "metadata": {
    "collapsed": false,
    "ExecuteTime": {
     "end_time": "2025-09-15T22:39:55.105331Z",
     "start_time": "2025-09-15T22:39:55.102560Z"
    }
   },
   "outputs": [
    {
     "name": "stdout",
     "output_type": "stream",
     "text": [
      "Lab radiation counter model 0 built for student ID: 123456. Default counting time is 10.0 seconds.\n"
     ]
    }
   ],
   "execution_count": 2
  },
  {
   "cell_type": "code",
   "source": [
    "myCounter.insert_calibration_source(mySource)"
   ],
   "metadata": {
    "collapsed": false,
    "ExecuteTime": {
     "end_time": "2025-09-15T22:39:55.115356Z",
     "start_time": "2025-09-15T22:39:55.113052Z"
    }
   },
   "outputs": [
    {
     "name": "stdout",
     "output_type": "stream",
     "text": [
      "The calibration source has been inserted into the counter\n"
     ]
    }
   ],
   "execution_count": 3
  },
  {
   "cell_type": "code",
   "source": [
    "myCounter.set_counting_time(15)\n",
    "myCounter.start()"
   ],
   "metadata": {
    "collapsed": false,
    "ExecuteTime": {
     "end_time": "2025-09-15T22:40:10.193299Z",
     "start_time": "2025-09-15T22:39:55.123094Z"
    }
   },
   "outputs": [
    {
     "name": "stdout",
     "output_type": "stream",
     "text": [
      "Measurement has begun. Please wait 15 seconds.\n",
      "Number of counts observed in 15 seconds was 47\n"
     ]
    }
   ],
   "execution_count": 4
  },
  {
   "cell_type": "code",
   "source": [
    "print(myCounter.get_count(), myCounter.get_success())"
   ],
   "metadata": {
    "collapsed": false,
    "ExecuteTime": {
     "end_time": "2025-09-15T22:40:10.458053Z",
     "start_time": "2025-09-15T22:40:10.455490Z"
    }
   },
   "outputs": [
    {
     "name": "stdout",
     "output_type": "stream",
     "text": [
      "47 True\n"
     ]
    }
   ],
   "execution_count": 5
  },
  {
   "cell_type": "code",
   "source": [
    "myCounter.insert_lab_source()\n",
    "myCounter.start()"
   ],
   "metadata": {
    "collapsed": false,
    "ExecuteTime": {
     "end_time": "2025-09-15T22:40:25.506493Z",
     "start_time": "2025-09-15T22:40:10.478864Z"
    }
   },
   "outputs": [
    {
     "name": "stdout",
     "output_type": "stream",
     "text": [
      "The calibration source has been removed from the counter.\n",
      "The lab source has been inserted into the counter.\n",
      "Measurement has begun. Please wait 15 seconds.\n",
      "Number of counts observed in 15 seconds was 7\n"
     ]
    }
   ],
   "execution_count": 6
  },
  {
   "metadata": {
    "ExecuteTime": {
     "end_time": "2025-09-15T22:40:25.523185Z",
     "start_time": "2025-09-15T22:40:25.521008Z"
    }
   },
   "cell_type": "code",
   "source": [
    "# Prepare a simulation of the experiment\n",
    "\n",
    "mySimulatedCounter = SimulatedRadiationCounter()"
   ],
   "outputs": [
    {
     "name": "stdout",
     "output_type": "stream",
     "text": [
      "Simulated detector built. Counting time = 10.0 Efficiency = 1.0 Background rate= 0.0 (Hz)\n"
     ]
    }
   ],
   "execution_count": 7
  },
  {
   "metadata": {
    "ExecuteTime": {
     "end_time": "2025-09-15T22:40:25.537983Z",
     "start_time": "2025-09-15T22:40:25.535451Z"
    }
   },
   "cell_type": "code",
   "source": [
    "mySimulatedCounter.insert_calibration_source(mySource)\n",
    "\n",
    "mySimulatedCounter.set_counting_time(30)\n",
    "repetitions = 100\n",
    "sim_data = mySimulatedCounter.get_data(repetitions) # returns a list of counts from the simulations\n",
    "\n",
    "print('Results from',repetitions,'simulations:')\n",
    "print(f'mean = {np.mean(sim_data):.2f}, std = {np.std(sim_data):.2f}')"
   ],
   "outputs": [
    {
     "name": "stdout",
     "output_type": "stream",
     "text": [
      "Results from 100 simulations:\n",
      "mean = 90.15, std = 9.79\n"
     ]
    }
   ],
   "execution_count": 8
  },
  {
   "metadata": {
    "ExecuteTime": {
     "end_time": "2025-09-15T22:40:25.575801Z",
     "start_time": "2025-09-15T22:40:25.572453Z"
    }
   },
   "cell_type": "code",
   "source": [
    "# modify the properties of the simulated counter\n",
    "mySimulatedCounter.set_background(0.5) # 0.5 counts per second\n",
    "mySimulatedCounter.set_efficiency(0.2) # 20% efficiency\n",
    "\n",
    "sim_data = mySimulatedCounter.get_data(repetitions) # returns a list of counts from the simulations\n",
    "\n",
    "print('Results from',repetitions,'simulations:')\n",
    "print(f'mean = {np.mean(sim_data):.2f}, std = {np.std(sim_data):.2f}')"
   ],
   "outputs": [
    {
     "name": "stdout",
     "output_type": "stream",
     "text": [
      "Results from 100 simulations:\n",
      "mean = 32.30, std = 5.74\n"
     ]
    }
   ],
   "execution_count": 9
  },
  {
   "metadata": {
    "ExecuteTime": {
     "end_time": "2025-09-15T22:40:25.586694Z",
     "start_time": "2025-09-15T22:40:25.583408Z"
    }
   },
   "cell_type": "code",
   "source": [
    "# remove the calibration source\n",
    "mySimulatedCounter.remove_source()\n",
    "sim_data = mySimulatedCounter.get_data(repetitions) # returns a list of counts from the simulations\n",
    "print('Results from',repetitions,'simulations without source:')\n",
    "print(f'mean = {np.mean(sim_data):.2f}, std = {np.std(sim_data):.2f}')"
   ],
   "outputs": [
    {
     "name": "stdout",
     "output_type": "stream",
     "text": [
      "Results from 100 simulations without source:\n",
      "mean = 15.12, std = 3.88\n"
     ]
    }
   ],
   "execution_count": 10
  }
 ],
 "metadata": {
  "kernelspec": {
   "display_name": "Python 3",
   "language": "python",
   "name": "python3"
  },
  "language_info": {
   "codemirror_mode": {
    "name": "ipython",
    "version": 2
   },
   "file_extension": ".py",
   "mimetype": "text/x-python",
   "name": "python",
   "nbconvert_exporter": "python",
   "pygments_lexer": "ipython2",
   "version": "2.7.6"
  }
 },
 "nbformat": 4,
 "nbformat_minor": 0
}
