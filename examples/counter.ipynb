{
 "cells": [
  {
   "cell_type": "code",
   "metadata": {
    "collapsed": true,
    "ExecuteTime": {
     "end_time": "2024-11-10T19:38:40.690427Z",
     "start_time": "2024-11-10T19:38:39.583426Z"
    }
   },
   "source": [
    "import sys\n",
    "sys.path.insert(0, '..')\n",
    "from dklab.RadiationCounter import RadiationCounter\n",
    "from dklab.RadioactiveSource import RadioactiveSource"
   ],
   "outputs": [],
   "execution_count": 1
  },
  {
   "cell_type": "code",
   "source": [
    "myCounter = RadiationCounter(123456)\n",
    "mySource = RadioactiveSource(3.)"
   ],
   "metadata": {
    "collapsed": false,
    "ExecuteTime": {
     "end_time": "2024-11-10T19:38:44.759715Z",
     "start_time": "2024-11-10T19:38:44.755725Z"
    }
   },
   "outputs": [
    {
     "name": "stdout",
     "output_type": "stream",
     "text": [
      "Lab radiation counter built for student ID: 123456. Default counting time is 10.0 seconds.\n"
     ]
    }
   ],
   "execution_count": 2
  },
  {
   "cell_type": "code",
   "source": [
    "myCounter.insert_calibration_source(mySource)"
   ],
   "metadata": {
    "collapsed": false,
    "ExecuteTime": {
     "end_time": "2024-11-10T19:38:46.916231Z",
     "start_time": "2024-11-10T19:38:46.900244Z"
    }
   },
   "outputs": [
    {
     "name": "stdout",
     "output_type": "stream",
     "text": [
      "The calibration source has been inserted into the counter\n"
     ]
    }
   ],
   "execution_count": 3
  },
  {
   "cell_type": "code",
   "source": [
    "myCounter.set_counting_time(15)\n",
    "myCounter.start()"
   ],
   "metadata": {
    "collapsed": false,
    "ExecuteTime": {
     "end_time": "2024-11-10T19:39:03.918593Z",
     "start_time": "2024-11-10T19:38:48.814705Z"
    }
   },
   "outputs": [
    {
     "name": "stdout",
     "output_type": "stream",
     "text": [
      "Measurement has begun. Please wait 15 seconds.\n",
      "Number of counts observed in 15 seconds was 61\n"
     ]
    }
   ],
   "execution_count": 4
  },
  {
   "cell_type": "code",
   "source": [
    "print(myCounter.get_count(), myCounter.get_success())"
   ],
   "metadata": {
    "collapsed": false,
    "ExecuteTime": {
     "end_time": "2024-11-10T19:39:11.302801Z",
     "start_time": "2024-11-10T19:39:11.285757Z"
    }
   },
   "outputs": [
    {
     "name": "stdout",
     "output_type": "stream",
     "text": [
      "61 True\n"
     ]
    }
   ],
   "execution_count": 5
  },
  {
   "cell_type": "code",
   "source": [
    "myCounter.insert_lab_source()\n",
    "myCounter.start()"
   ],
   "metadata": {
    "collapsed": false,
    "ExecuteTime": {
     "end_time": "2024-11-10T19:39:38.405862Z",
     "start_time": "2024-11-10T19:39:23.331263Z"
    }
   },
   "outputs": [
    {
     "name": "stdout",
     "output_type": "stream",
     "text": [
      "The calibration source has been removed from the counter.\n",
      "The lab source has been inserted into the counter.\n",
      "Measurement has begun. Please wait 15 seconds.\n",
      "Number of counts observed in 15 seconds was 6\n"
     ]
    }
   ],
   "execution_count": 6
  },
  {
   "cell_type": "code",
   "execution_count": null,
   "outputs": [],
   "source": [],
   "metadata": {
    "collapsed": false
   }
  }
 ],
 "metadata": {
  "kernelspec": {
   "display_name": "Python 3",
   "language": "python",
   "name": "python3"
  },
  "language_info": {
   "codemirror_mode": {
    "name": "ipython",
    "version": 2
   },
   "file_extension": ".py",
   "mimetype": "text/x-python",
   "name": "python",
   "nbconvert_exporter": "python",
   "pygments_lexer": "ipython2",
   "version": "2.7.6"
  }
 },
 "nbformat": 4,
 "nbformat_minor": 0
}
