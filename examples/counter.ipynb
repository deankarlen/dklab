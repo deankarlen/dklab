{
 "cells": [
  {
   "cell_type": "code",
   "execution_count": 1,
   "metadata": {
    "collapsed": true,
    "ExecuteTime": {
     "start_time": "2023-08-10T23:43:43.208112Z",
     "end_time": "2023-08-10T23:43:45.195759Z"
    }
   },
   "outputs": [],
   "source": [
    "from dklab.RadiationCounter import RadiationCounter\n",
    "from dklab.RadioactiveSource import RadioactiveSource"
   ]
  },
  {
   "cell_type": "code",
   "execution_count": 2,
   "outputs": [
    {
     "name": "stdout",
     "output_type": "stream",
     "text": [
      "Lab radiation counter built for student ID: 123456. Default counting time is 10.0 seconds.\n"
     ]
    }
   ],
   "source": [
    "myCounter = RadiationCounter(123456)\n",
    "mySource = RadioactiveSource(3.)"
   ],
   "metadata": {
    "collapsed": false,
    "ExecuteTime": {
     "start_time": "2023-08-10T23:43:46.485912Z",
     "end_time": "2023-08-10T23:43:46.493890Z"
    }
   }
  },
  {
   "cell_type": "code",
   "execution_count": 3,
   "outputs": [
    {
     "name": "stdout",
     "output_type": "stream",
     "text": [
      "The calibration source has been inserted into the counter\n"
     ]
    }
   ],
   "source": [
    "myCounter.insert_calibration_source(mySource)"
   ],
   "metadata": {
    "collapsed": false,
    "ExecuteTime": {
     "start_time": "2023-08-10T23:43:50.712706Z",
     "end_time": "2023-08-10T23:43:50.720237Z"
    }
   }
  },
  {
   "cell_type": "code",
   "execution_count": 10,
   "outputs": [
    {
     "name": "stdout",
     "output_type": "stream",
     "text": [
      "Measurement has begun. Please wait 10.0 seconds.\n",
      "Error retrieving data from the detector:\n",
      "\n",
      "Expecting value: line 1 column 1 (char 0)\n"
     ]
    }
   ],
   "source": [
    "myCounter.start()"
   ],
   "metadata": {
    "collapsed": false,
    "ExecuteTime": {
     "start_time": "2023-08-12T08:09:21.576233Z",
     "end_time": "2023-08-12T08:09:21.620159Z"
    }
   }
  },
  {
   "cell_type": "code",
   "execution_count": 6,
   "outputs": [
    {
     "name": "stdout",
     "output_type": "stream",
     "text": [
      "33 True\n"
     ]
    }
   ],
   "source": [
    "print(myCounter.get_count(), myCounter.get_success())"
   ],
   "metadata": {
    "collapsed": false,
    "ExecuteTime": {
     "start_time": "2023-08-10T23:44:42.645631Z",
     "end_time": "2023-08-10T23:44:42.649621Z"
    }
   }
  },
  {
   "cell_type": "code",
   "execution_count": 8,
   "outputs": [
    {
     "name": "stdout",
     "output_type": "stream",
     "text": [
      "The lab source is already in the counter.\n",
      "Measurement has begun. Please wait 10.0 seconds.\n",
      "Number of counts observed in 10.0 seconds was 3\n"
     ]
    }
   ],
   "source": [
    "myCounter.insert_lab_source()\n",
    "myCounter.start()"
   ],
   "metadata": {
    "collapsed": false,
    "ExecuteTime": {
     "start_time": "2023-08-10T23:48:03.057818Z",
     "end_time": "2023-08-10T23:48:13.115547Z"
    }
   }
  },
  {
   "cell_type": "code",
   "execution_count": null,
   "outputs": [],
   "source": [],
   "metadata": {
    "collapsed": false
   }
  }
 ],
 "metadata": {
  "kernelspec": {
   "display_name": "Python 3",
   "language": "python",
   "name": "python3"
  },
  "language_info": {
   "codemirror_mode": {
    "name": "ipython",
    "version": 2
   },
   "file_extension": ".py",
   "mimetype": "text/x-python",
   "name": "python",
   "nbconvert_exporter": "python",
   "pygments_lexer": "ipython2",
   "version": "2.7.6"
  }
 },
 "nbformat": 4,
 "nbformat_minor": 0
}
